{
  "nbformat": 4,
  "nbformat_minor": 0,
  "metadata": {
    "colab": {
      "name": "CS286-Enzymes-In-Cow-Rumen.ipynb",
      "provenance": [],
      "collapsed_sections": []
    },
    "kernelspec": {
      "name": "python3",
      "display_name": "Python 3"
    },
    "language_info": {
      "name": "python"
    }
  },
  "cells": [
    {
      "cell_type": "markdown",
      "metadata": {
        "id": "6aNLkPZryTXW"
      },
      "source": [
        "**Metagenomic Discovery of Biomass-Degrading Genes and Genomes from Cow\n",
        "Rumen**\n",
        "\n",
        "Sushant Mane & David Bui\n",
        "\n"
      ]
    },
    {
      "cell_type": "code",
      "metadata": {
        "colab": {
          "base_uri": "https://localhost:8080/"
        },
        "id": "XWJb51Hmyb5s",
        "outputId": "ab105b37-ddd8-4242-8f7c-8f913d91fe33"
      },
      "source": [
        "!pip install Bio\n",
        "# !pip install Squiggle"
      ],
      "execution_count": null,
      "outputs": [
        {
          "output_type": "stream",
          "text": [
            "Collecting Bio\n",
            "\u001b[?25l  Downloading https://files.pythonhosted.org/packages/85/84/13d3aa585fcaa010577cfdc40f3211933fa4468e98f8e63576066b2a7ad1/bio-0.4.1-py3-none-any.whl (73kB)\n",
            "\r\u001b[K     |████▌                           | 10kB 10.2MB/s eta 0:00:01\r\u001b[K     |█████████                       | 20kB 15.1MB/s eta 0:00:01\r\u001b[K     |█████████████▍                  | 30kB 11.6MB/s eta 0:00:01\r\u001b[K     |█████████████████▉              | 40kB 9.6MB/s eta 0:00:01\r\u001b[K     |██████████████████████▎         | 51kB 5.5MB/s eta 0:00:01\r\u001b[K     |██████████████████████████▊     | 61kB 5.5MB/s eta 0:00:01\r\u001b[K     |███████████████████████████████▏| 71kB 5.9MB/s eta 0:00:01\r\u001b[K     |████████████████████████████████| 81kB 3.8MB/s \n",
            "\u001b[?25hRequirement already satisfied: numpy<1.20 in /usr/local/lib/python3.7/dist-packages (from Bio) (1.19.5)\n",
            "Collecting biopython>=1.78\n",
            "\u001b[?25l  Downloading https://files.pythonhosted.org/packages/3a/cd/0098eaff841850c01da928c7f509b72fd3e1f51d77b772e24de9e2312471/biopython-1.78-cp37-cp37m-manylinux1_x86_64.whl (2.3MB)\n",
            "\u001b[K     |████████████████████████████████| 2.3MB 8.1MB/s \n",
            "\u001b[?25hRequirement already satisfied: requests in /usr/local/lib/python3.7/dist-packages (from Bio) (2.23.0)\n",
            "Requirement already satisfied: chardet<4,>=3.0.2 in /usr/local/lib/python3.7/dist-packages (from requests->Bio) (3.0.4)\n",
            "Requirement already satisfied: idna<3,>=2.5 in /usr/local/lib/python3.7/dist-packages (from requests->Bio) (2.10)\n",
            "Requirement already satisfied: certifi>=2017.4.17 in /usr/local/lib/python3.7/dist-packages (from requests->Bio) (2020.12.5)\n",
            "Requirement already satisfied: urllib3!=1.25.0,!=1.25.1,<1.26,>=1.21.1 in /usr/local/lib/python3.7/dist-packages (from requests->Bio) (1.24.3)\n",
            "Installing collected packages: biopython, Bio\n",
            "Successfully installed Bio-0.4.1 biopython-1.78\n"
          ],
          "name": "stdout"
        }
      ]
    },
    {
      "cell_type": "code",
      "metadata": {
        "id": "GhRlRLZZnlZc"
      },
      "source": [
        "import io\n",
        "import os\n",
        "import numpy as np\n",
        "import pandas as pd\n",
        "import seaborn as sn\n",
        "import matplotlib.pyplot as plt\n",
        "from itertools import cycle\n",
        "from Bio import SeqIO\n",
        "from os import listdir, walk\n",
        "from os.path import isfile, join"
      ],
      "execution_count": null,
      "outputs": []
    },
    {
      "cell_type": "code",
      "metadata": {
        "id": "sKLK-HvY0Klk"
      },
      "source": [
        "from sklearn.metrics import plot_confusion_matrix, precision_recall_curve, confusion_matrix\n",
        "from sklearn.metrics import auc, roc_auc_score, roc_curve, plot_precision_recall_curve, plot_roc_curve\n",
        "from sklearn.metrics import f1_score, precision_score, recall_score, average_precision_score\n",
        "from sklearn.metrics import classification_report, accuracy_score\n",
        "from sklearn.model_selection import cross_val_predict\n",
        "from sklearn import model_selection\n",
        "from sklearn.neighbors import KNeighborsClassifier\n",
        "from sklearn.linear_model import SGDClassifier\n",
        "from sklearn.naive_bayes import GaussianNB\n",
        "from sklearn.neural_network import MLPClassifier\n",
        "from sklearn.ensemble import RandomForestClassifier, AdaBoostClassifier\n",
        "from sklearn.multiclass import OneVsRestClassifier\n",
        "from sklearn.svm import SVC\n",
        "from sklearn.ensemble import GradientBoostingClassifier\n",
        "from sklearn.tree import DecisionTreeClassifier\n",
        "from sklearn.naive_bayes import MultinomialNB\n",
        "from sklearn import svm, datasets\n",
        "from sklearn.model_selection import train_test_split\n",
        "from sklearn.preprocessing import label_binarize\n",
        "from sklearn.feature_extraction.text import CountVectorizer\n",
        "from scipy import interp"
      ],
      "execution_count": null,
      "outputs": []
    },
    {
      "cell_type": "code",
      "metadata": {
        "id": "1_PRnfoMWs-_"
      },
      "source": [
        "# from google.colab import drive\n",
        "# # drive.mount('/content/drive')\n",
        "# drive.mount(\"/content/drive\", force_remount=True)\n",
        "# !python -m pip install bokeh==1.3.0\n",
        "# !squiggle \"/content/drive/MyDrive/Masters/CS286/cmc/3871318_57350.txt\"\n",
        "\n",
        "# !ls '/content/drive/MyDrive/Masters/CS286/NR'\n",
        "POS_PATH = \"/content/drive/MyDrive/Masters/CS286/FastaLichenan\"\n",
        "NEG_PATH = \"/content/drive/MyDrive/Masters/CS286/NR\"\n",
        "\n",
        "POS_PATH = \"/content/drive/MyDrive/Masters/CS286/reaction\"\n",
        "NEG_PATH = \"/content/drive/MyDrive/Masters/CS286/no-reaction\"\n",
        "\n",
        "\n",
        "POS_PATH = \"/content/drive/MyDrive/Masters/CS286/cmc\"\n",
        "NEG_PATH = \"/content/drive/MyDrive/Masters/CS286/non-cmc\"\n",
        "\n",
        "def list_seq_files(dir_path):\n",
        "  # print(lichenan_fasta_files)\n",
        "  for ffile in dir_path:\n",
        "    for seq_record in SeqIO.parse(POS_PATH + \"/\" + ffile, \"fasta\"):\n",
        "        print(\"seq_record.id: \", seq_record.id)\n",
        "        print(\"seq_record.seq: \", seq_record.seq)\n",
        "        print(\"len(seq_record.seq): \", len(seq_record.seq))\n",
        "\n",
        "lichenan_fasta_files = os.listdir(POS_PATH)\n",
        "# list_seq_files(lichenan_fasta_files)"
      ],
      "execution_count": null,
      "outputs": []
    },
    {
      "cell_type": "code",
      "metadata": {
        "colab": {
          "base_uri": "https://localhost:8080/"
        },
        "id": "0z03mq4u0cWC",
        "outputId": "4e5c5700-1606-4eca-9b78-38c978e810a2"
      },
      "source": [
        "def get_dir_files(dir): \n",
        "  files = [f for f in listdir(dir) if isfile(join(dir, f))]\n",
        "  return files\n",
        "\n",
        "def seq_map(folder, files): \n",
        "  IDToSequence = {}\n",
        "  for next in files:\n",
        "    nextPath = folder + '/'+ next\n",
        "    sequenceName = next[:len(next)-4] # remove the .txt extension\n",
        "    text_file = open(nextPath, \"r\")\n",
        "    lines = text_file.readlines()\n",
        "    sliced = lines[1:]\n",
        "    combined = ''.join(sliced)\n",
        "    IDToSequence[sequenceName] = combined.replace('\\n', '').replace('\\r', '')\n",
        "  return IDToSequence\n",
        "\n",
        "\n",
        "def seq_arr(folder, files):\n",
        "  seq = []\n",
        "  for next in files:\n",
        "    nextPath = folder + '/'+ next\n",
        "    sequenceName = next[:len(next)-4] # remove the .txt extension\n",
        "    text_file = open(nextPath, \"r\")\n",
        "    lines = text_file.readlines()\n",
        "    sliced = lines[1:]\n",
        "    combined = ''.join(sliced)\n",
        "    seq.append(combined.replace('\\n', '').replace('\\r', ''))\n",
        "  return seq\n",
        "\n",
        "\n",
        "def print_seq(seq):\n",
        "  for next in seq:\n",
        "    name = 'Sequence ID: ' + str(next)\n",
        "    sequence = 'Sequence below: \\n' + seq[next]  + '\\n'\n",
        "    # print(name)\n",
        "    # print(sequence)\n",
        "\n",
        "# gather sequences\n",
        "neg_samples_path = get_dir_files(NEG_PATH)\n",
        "pos_samples_path = get_dir_files(POS_PATH)\n",
        "\n",
        "neg_samples = seq_arr(NEG_PATH, neg_samples_path)\n",
        "pos_samples = seq_arr(POS_PATH, pos_samples_path)\n",
        "\n",
        "lists_of_seq = []\n",
        "lists_of_seq.append(neg_samples)\n",
        "lists_of_seq.append(pos_samples)\n",
        "\n",
        "def addToData(lists): \n",
        "  classes = 0\n",
        "  data = {'sequence': [], 'class': []}\n",
        "  for seq in lists:\n",
        "    prev = data['sequence']\n",
        "    conca = prev + seq \n",
        "    seq_len = len(seq)\n",
        "    data.update({'sequence': conca})\n",
        "    class_list = []\n",
        "    for i in range(seq_len):\n",
        "      class_list.append(classes)\n",
        "    prev_class = data['class']\n",
        "    both_class = prev_class + class_list\n",
        "    data.update({'class': both_class})\n",
        "    classes = classes + 1\n",
        "  return data\n",
        "\n",
        "data = addToData(lists_of_seq)\n",
        "cazy_data = pd.DataFrame(data)\n",
        "# cazy_data.head()\n",
        "\n",
        "K_MER = 3\n",
        "def getKmers(sequence, size=K_MER):\n",
        "    return [sequence[x:x+size].lower() for x in range(len(sequence) - size + 1)]\n",
        "\n",
        "cazy_data['words'] = cazy_data.apply(lambda x: getKmers(x['sequence']), axis=1)\n",
        "cazy_data = cazy_data.drop('sequence', axis=1)\n",
        "\n",
        "cazy_texts = list(cazy_data['words'])\n",
        "for item in range(len(cazy_texts)):\n",
        "    cazy_texts[item] = ' '.join(cazy_texts[item])\n",
        "y_data = cazy_data.iloc[:, 0].values    # class labels\n",
        "# print(cazy_texts[2])\n",
        "# print(y_data)\n",
        "\n",
        "cv = CountVectorizer(ngram_range=(3,6))\n",
        "X_cazy = cv.fit_transform(cazy_texts)\n",
        "# print(X_cazy)\n",
        "print(X_cazy.shape)\n",
        "print(y_data.shape)"
      ],
      "execution_count": null,
      "outputs": [
        {
          "output_type": "stream",
          "text": [
            "(84, 69289)\n",
            "(84,)\n"
          ],
          "name": "stdout"
        }
      ]
    },
    {
      "cell_type": "code",
      "metadata": {
        "colab": {
          "base_uri": "https://localhost:8080/",
          "height": 1000
        },
        "id": "qRkQqEG0AoYl",
        "outputId": "105e582f-14d2-4bd9-82fc-10bc64af415b"
      },
      "source": [
        "X_train, X_test, y_train, y_test = train_test_split(X_cazy, y_data, random_state = 3, test_size = 0.25)\n",
        "\n",
        "print(y_test)\n",
        "def pp_cdist(y_samples):\n",
        "  cdist = {0:0, 1:0}\n",
        "  for sample in y_samples:\n",
        "    cdist[sample] = cdist[sample] + 1\n",
        "  return cdist\n",
        "\n",
        "print(\"number of samples for training: \", X_train.shape, pp_cdist(y_train))\n",
        "print(\"number of samples for testing: \", X_test.shape, pp_cdist(y_test))\n",
        "\n",
        "\n",
        "# clf =  MultinomialNB(alpha=0.1)\n",
        "clf = DecisionTreeClassifier()\n",
        "# clf = RandomForestClassifier(n_estimators=100)\n",
        "# clf = GradientBoostingClassifier(n_estimators=100)\n",
        "# clf = SVC(kernel = 'linear')\n",
        "# clf = SVC(kernel = 'rbf')\n",
        "# clf = SVC(kernel = 'poly')\n",
        "# clf = SVC(kernel = 'sigmoid')\n",
        "# clf = AdaBoostClassifier()\n",
        "\n",
        "model = clf.fit(X_train, y_train)\n",
        "ytrain_pred = model.predict(X_train) \n",
        "ytest_pred = model.predict(X_test) \n",
        "\n",
        "def get_metrics(y_test, y_predicted):\n",
        "    accuracy = accuracy_score(y_test, y_predicted)\n",
        "    precision = precision_score(y_test, y_predicted, average='weighted')\n",
        "    recall = recall_score(y_test, y_predicted, average='weighted')\n",
        "    f1 = f1_score(y_test, y_predicted, average='weighted')\n",
        "    return accuracy, precision, recall, f1\n",
        "\n",
        "\n",
        "print(\"\\n\\nTraining Confusion matrix:\")\n",
        "print(pd.crosstab(pd.Series(y_train, name='Actual'), pd.Series(ytrain_pred, name='Predicted')))\n",
        "accuracy, precision, recall, f1 = get_metrics(y_train, ytrain_pred)\n",
        "print(\"training accuracy = %.3f \\nprecision = %.3f \\nrecall = %.3f \\nf1 = %.3f\" % (accuracy, precision, recall, f1))\n",
        "\n",
        "print(\"\\n\\nTesting Confusion matrix:\")\n",
        "print(pd.crosstab(pd.Series(y_test, name='Actual'), pd.Series(ytest_pred, name='Predicted')))\n",
        "accuracy, precision, recall, f1 = get_metrics(y_test, ytest_pred)\n",
        "print(\"testing accuracy = %.3f \\nprecision = %.3f \\nrecall = %.3f \\nf1 = %.3f\" % (accuracy, precision, recall, f1))\n",
        "\n",
        "\n",
        "\n",
        "def plot_cm(cm):\n",
        "  # plt.figure(figsize = (10, 10))\n",
        "  # sn.heatmap(cm, annot=True)\n",
        "  # sn.set(font_scale=0.8) # for label size\n",
        "  sn.heatmap(cm, annot=True) # font size\n",
        "  # plt.show()\n",
        "cm = confusion_matrix(y_test, ytest_pred)\n",
        "plot_cm(cm)\n",
        "\n",
        "def plot_pr_roc_curves(X_phase, y_phase):\n",
        "  y_score = clf.decision_function(X_phase)\n",
        "  average_precision = average_precision_score(y_phase, y_score)\n",
        "  disp = plot_precision_recall_curve(clf, X_phase, y_phase)\n",
        "  disp.ax_.set_title('2-class Precision-Recall curve: '\n",
        "                    'AP={0:0.2f}'.format(average_precision))\n",
        "  plot_roc_curve(clf, X_phase, y_phase)  \n",
        "  plt.show()\n",
        "\n",
        "plot_roc_curve(clf, X_train, y_train)  \n",
        "plot_roc_curve(clf, X_test, y_test)  \n",
        "\n",
        "\n",
        "# # print(\"Training Accuracy:\", model.score(X_train, y_train))\n",
        "# print(\"Training Accuracy:\", metrics.accuracy_score(y_train, ytrain_pred))\n",
        "# # print(\"Testing Accuracy:\", model.score(X_test, y_test))\n",
        "# print(\"Testing Accuracy:\", metrics.accuracy_score(y_test, ytest_pred))\n",
        "\n",
        "# print(\"precision:\", precision_score(y_test, ytest_pred, average='micro'))\n",
        "# print(\"recall:\", recall_score(y_test, ytest_pred, average='micro'))\n",
        "# print(\"f1:\", f1_score(y_test, ytest_pred, average='micro'))\n",
        "\n",
        "\n",
        "# print(\"precision:\", precision_score(y_test, ytest_pred, average='macro'))\n",
        "# print(\"recall:\", recall_score(y_test, ytest_pred, average='macro'))\n",
        "# print(\"f1:\", f1_score(y_test, ytest_pred, average='macro'))\n",
        "\n",
        "# from sklearn.metrics import classification_report\n",
        "# print(classification_report(y_test, ytest_pred))\n",
        "\n",
        "set(y_test) - set(ytest_pred)\n"
      ],
      "execution_count": null,
      "outputs": [
        {
          "output_type": "stream",
          "text": [
            "[1 1 0 1 0 1 1 1 1 0 0 0 1 0 0 0 0 1 0 0 1]\n",
            "number of samples for training:  (63, 69289) {0: 39, 1: 24}\n",
            "number of samples for testing:  (21, 69289) {0: 11, 1: 10}\n",
            "\n",
            "\n",
            "Training Confusion matrix:\n",
            "Predicted   0   1\n",
            "Actual           \n",
            "0          39   0\n",
            "1           0  24\n",
            "training accuracy = 1.000 \n",
            "precision = 1.000 \n",
            "recall = 1.000 \n",
            "f1 = 1.000\n",
            "\n",
            "\n",
            "Testing Confusion matrix:\n",
            "Predicted   0  1\n",
            "Actual          \n",
            "0          10  1\n",
            "1           3  7\n",
            "testing accuracy = 0.810 \n",
            "precision = 0.820 \n",
            "recall = 0.810 \n",
            "f1 = 0.807\n"
          ],
          "name": "stdout"
        },
        {
          "output_type": "execute_result",
          "data": {
            "text/plain": [
              "set()"
            ]
          },
          "metadata": {
            "tags": []
          },
          "execution_count": 13
        },
        {
          "output_type": "display_data",
          "data": {
            "image/png": "[encoded data removed]",
            "text/plain": [
              "<Figure size 432x288 with 2 Axes>"
            ]
          },
          "metadata": {
            "tags": [],
            "needs_background": "light"
          }
        },
        {
          "output_type": "display_data",
          "data": {
            "image/png": "[encoded data removed]",
            "text/plain": [
              "<Figure size 432x288 with 1 Axes>"
            ]
          },
          "metadata": {
            "tags": [],
            "needs_background": "light"
          }
        },
        {
          "output_type": "display_data",
          "data": {
            "image/png": "[encoded data removed]",
            "text/plain": [
              "<Figure size 432x288 with 1 Axes>"
            ]
          },
          "metadata": {
            "tags": [],
            "needs_background": "light"
          }
        }
      ]
    },
    {
      "cell_type": "code",
      "metadata": {
        "id": "voy0sQP7yaZf",
        "colab": {
          "base_uri": "https://localhost:8080/"
        },
        "outputId": "f5aba3ef-c921-4abb-9993-16e3265de23e"
      },
      "source": [
        ""
      ],
      "execution_count": null,
      "outputs": [
        {
          "output_type": "execute_result",
          "data": {
            "text/plain": [
              "{0}"
            ]
          },
          "metadata": {
            "tags": []
          },
          "execution_count": 109
        }
      ]
    },
    {
      "cell_type": "code",
      "metadata": {
        "colab": {
          "base_uri": "https://localhost:8080/"
        },
        "id": "Js85z8fB2NuQ",
        "outputId": "199e69bc-70a0-4647-e74a-94a42909bc9b"
      },
      "source": [
        "from sklearn.metrics import accuracy_score, f1_score, precision_score, recall_score\n",
        "from sklearn.feature_extraction.text import CountVectorizer\n",
        "cv = CountVectorizer(ngram_range=(1,12))\n",
        "\n",
        "X_cazy = cv.fit_transform(cazy_texts)\n",
        "print(X_cazy.shape)\n",
        "from sklearn.model_selection import train_test_split\n",
        "X_train, X_test, y_train, y_test = train_test_split(X_cazy, \n",
        "                                                    y_data, random_state = 3, test_size = 0.25)\n",
        "print(y_train)\n",
        "\n",
        "import numpy as np \n",
        "from sklearn.model_selection import ShuffleSplit # or StratifiedShuffleSplit\n",
        "sss = ShuffleSplit(n_splits=1, test_size=0.1)\n",
        "\n",
        "\n",
        "# data_size = \n",
        "# X = np.reshape(np.random.rand(data_size*2),(data_size,2))\n",
        "# y = np.random.randint(2, size=data_size)\n",
        "\n",
        "# sss.get_n_splits(X, y)\n",
        "# train_index, test_index = next(sss.split(X, y)) \n",
        "\n",
        "# X_train, X_test = X[train_index], X[test_index] \n",
        "# y_train, y_test = y[train_index], y[test_index]"
      ],
      "execution_count": null,
      "outputs": [
        {
          "output_type": "stream",
          "text": [
            "(81, 1183447)\n",
            "[1 1 0 1 1 0 0 1 0 1 0 1 1 1 1 1 1 0 1 1 0 1 1 0 1 1 0 1 1 0 1 1 0 0 1 1 0\n",
            " 1 1 0 1 1 0 0 0 0 1 1 0 1 1 0 1 0 0 0 1 1 0 0]\n"
          ],
          "name": "stdout"
        }
      ]
    },
    {
      "cell_type": "code",
      "metadata": {
        "colab": {
          "base_uri": "https://localhost:8080/",
          "height": 698
        },
        "id": "ysd9s5W4TAPi",
        "outputId": "bf00b137-b7d3-4ae6-a6a5-c066b85c6a8e"
      },
      "source": [
        "import numpy as np\n",
        "import pandas as pd\n",
        "import matplotlib.pyplot as plt\n",
        "import requests\n",
        "from tensorflow.keras.layers import Conv1D, Dense, MaxPooling1D, Flatten\n",
        "from tensorflow.keras.models import Sequential\n",
        "\n",
        "\n",
        "from sklearn.preprocessing import LabelEncoder, OneHotEncoder\n",
        "\n",
        "\n",
        "\n",
        "\n",
        "# # The LabelEncoder encodes a sequence of bases as a sequence of integers.\n",
        "# integer_encoder = LabelEncoder()  \n",
        "# # The OneHotEncoder converts an array of integers to a sparse matrix where \n",
        "# # each row corresponds to one possible value of each feature.\n",
        "# one_hot_encoder = OneHotEncoder(categories='auto')   \n",
        "# input_features = []\n",
        "\n",
        "# for sequence in sequences:\n",
        "#   integer_encoded = integer_encoder.fit_transform(list(sequence))\n",
        "#   integer_encoded = np.array(integer_encoded).reshape(-1, 1)\n",
        "#   one_hot_encoded = one_hot_encoder.fit_transform(integer_encoded)\n",
        "#   input_features.append(one_hot_encoded.toarray())\n",
        "\n",
        "# np.set_printoptions(threshold=40)\n",
        "# input_features = np.stack(input_features)\n",
        "# print(\"Example sequence\\n-----------------------\")\n",
        "# print('DNA Sequence #1:\\n',sequences[0][:10],'...',sequences[0][-10:])\n",
        "# print('One hot encoding of Sequence #1:\\n',input_features[0].T)\n",
        "\n",
        "\n",
        "model = Sequential()\n",
        "model.add(Conv1D(filters=32, kernel_size=12, \n",
        "                 input_shape=(X_train.shape[1], 4)))\n",
        "model.add(MaxPooling1D(pool_size=4))\n",
        "model.add(Flatten())\n",
        "model.add(Dense(16, activation='relu'))\n",
        "model.add(Dense(2, activation='softmax'))\n",
        "\n",
        "model.compile(loss='binary_crossentropy', optimizer='adam', \n",
        "              metrics=['binary_accuracy'])\n",
        "model.summary()\n",
        "history = model.fit(X_train, y_train, \n",
        "                    epochs=50, verbose=0, validation_split=0.25)\n",
        "\n",
        "plt.figure()\n",
        "plt.plot(history.history['loss'])\n",
        "plt.plot(history.history['val_loss'])\n",
        "plt.title('model loss')\n",
        "plt.ylabel('loss')\n",
        "plt.xlabel('epoch')\n",
        "plt.legend(['train', 'validation'])\n",
        "plt.show()"
      ],
      "execution_count": null,
      "outputs": [
        {
          "output_type": "stream",
          "text": [
            "(81, 1183447)\n",
            "Model: \"sequential\"\n",
            "_________________________________________________________________\n",
            "Layer (type)                 Output Shape              Param #   \n",
            "=================================================================\n",
            "conv1d (Conv1D)              (None, 1183436, 32)       1568      \n",
            "_________________________________________________________________\n",
            "max_pooling1d (MaxPooling1D) (None, 295859, 32)        0         \n",
            "_________________________________________________________________\n",
            "flatten (Flatten)            (None, 9467488)           0         \n",
            "_________________________________________________________________\n",
            "dense (Dense)                (None, 16)                151479824 \n",
            "_________________________________________________________________\n",
            "dense_1 (Dense)              (None, 2)                 34        \n",
            "=================================================================\n",
            "Total params: 151,481,426\n",
            "Trainable params: 151,481,426\n",
            "Non-trainable params: 0\n",
            "_________________________________________________________________\n"
          ],
          "name": "stdout"
        },
        {
          "output_type": "error",
          "ename": "ValueError",
          "evalue": "ignored",
          "traceback": [
            "\u001b[0;31m---------------------------------------------------------------------------\u001b[0m",
            "\u001b[0;31mValueError\u001b[0m                                Traceback (most recent call last)",
            "\u001b[0;32m<ipython-input-113-6a32eea2b993>\u001b[0m in \u001b[0;36m<module>\u001b[0;34m()\u001b[0m\n\u001b[1;32m     53\u001b[0m \u001b[0mmodel\u001b[0m\u001b[0;34m.\u001b[0m\u001b[0msummary\u001b[0m\u001b[0;34m(\u001b[0m\u001b[0;34m)\u001b[0m\u001b[0;34m\u001b[0m\u001b[0;34m\u001b[0m\u001b[0m\n\u001b[1;32m     54\u001b[0m history = model.fit(X_train, y_train, \n\u001b[0;32m---> 55\u001b[0;31m                     epochs=50, verbose=0, validation_split=0.25)\n\u001b[0m\u001b[1;32m     56\u001b[0m \u001b[0;34m\u001b[0m\u001b[0m\n\u001b[1;32m     57\u001b[0m \u001b[0mplt\u001b[0m\u001b[0;34m.\u001b[0m\u001b[0mfigure\u001b[0m\u001b[0;34m(\u001b[0m\u001b[0;34m)\u001b[0m\u001b[0;34m\u001b[0m\u001b[0;34m\u001b[0m\u001b[0m\n",
            "\u001b[0;32m/usr/local/lib/python3.7/dist-packages/tensorflow/python/keras/engine/training.py\u001b[0m in \u001b[0;36mfit\u001b[0;34m(self, x, y, batch_size, epochs, verbose, callbacks, validation_split, validation_data, shuffle, class_weight, sample_weight, initial_epoch, steps_per_epoch, validation_steps, validation_batch_size, validation_freq, max_queue_size, workers, use_multiprocessing)\u001b[0m\n\u001b[1;32m   1039\u001b[0m       (x, y, sample_weight), validation_data = (\n\u001b[1;32m   1040\u001b[0m           data_adapter.train_validation_split(\n\u001b[0;32m-> 1041\u001b[0;31m               (x, y, sample_weight), validation_split=validation_split))\n\u001b[0m\u001b[1;32m   1042\u001b[0m \u001b[0;34m\u001b[0m\u001b[0m\n\u001b[1;32m   1043\u001b[0m     \u001b[0;32mif\u001b[0m \u001b[0mvalidation_data\u001b[0m\u001b[0;34m:\u001b[0m\u001b[0;34m\u001b[0m\u001b[0;34m\u001b[0m\u001b[0m\n",
            "\u001b[0;32m/usr/local/lib/python3.7/dist-packages/tensorflow/python/keras/engine/data_adapter.py\u001b[0m in \u001b[0;36mtrain_validation_split\u001b[0;34m(arrays, validation_split)\u001b[0m\n\u001b[1;32m   1357\u001b[0m     raise ValueError(\n\u001b[1;32m   1358\u001b[0m         \u001b[0;34m\"`validation_split` is only supported for Tensors or NumPy \"\u001b[0m\u001b[0;34m\u001b[0m\u001b[0;34m\u001b[0m\u001b[0m\n\u001b[0;32m-> 1359\u001b[0;31m         \"arrays, found following types in the input: {}\".format(unsplitable))\n\u001b[0m\u001b[1;32m   1360\u001b[0m \u001b[0;34m\u001b[0m\u001b[0m\n\u001b[1;32m   1361\u001b[0m   \u001b[0;32mif\u001b[0m \u001b[0mall\u001b[0m\u001b[0;34m(\u001b[0m\u001b[0mt\u001b[0m \u001b[0;32mis\u001b[0m \u001b[0;32mNone\u001b[0m \u001b[0;32mfor\u001b[0m \u001b[0mt\u001b[0m \u001b[0;32min\u001b[0m \u001b[0mflat_arrays\u001b[0m\u001b[0;34m)\u001b[0m\u001b[0;34m:\u001b[0m\u001b[0;34m\u001b[0m\u001b[0;34m\u001b[0m\u001b[0m\n",
            "\u001b[0;31mValueError\u001b[0m: `validation_split` is only supported for Tensors or NumPy arrays, found following types in the input: [<class 'scipy.sparse.csr.csr_matrix'>]"
          ]
        }
      ]
    },
    {
      "cell_type": "code",
      "metadata": {
        "colab": {
          "base_uri": "https://localhost:8080/"
        },
        "id": "9gdvUXMm40EE",
        "outputId": "128451d8-9294-4ac7-bd3b-ae2fd906dbab"
      },
      "source": [
        "# function to convert a DNA sequence string to a numpy array\n",
        "# converts to lower case, changes any non 'acgt' characters to 'n'\n",
        "import numpy as np\n",
        "import re\n",
        "def string_to_array(my_string):\n",
        "    my_string = my_string.lower()\n",
        "    my_string = re.sub('[^acgt]', 'z', my_string)\n",
        "    my_array = np.array(list(my_string))\n",
        "    return my_array\n",
        "\n",
        "# create a label encoder with 'acgtn' alphabet\n",
        "from sklearn.preprocessing import LabelEncoder\n",
        "label_encoder = LabelEncoder()\n",
        "label_encoder.fit(np.array(['a','c','g','t','z']))"
      ],
      "execution_count": null,
      "outputs": [
        {
          "output_type": "execute_result",
          "data": {
            "text/plain": [
              "LabelEncoder()"
            ]
          },
          "metadata": {
            "tags": []
          },
          "execution_count": 3
        }
      ]
    },
    {
      "cell_type": "code",
      "metadata": {
        "id": "1zrMo-kY1fYz"
      },
      "source": [
        "# function to one-hot encode a DNA sequence string\n",
        "\n",
        "from sklearn.preprocessing import  OneHotEncoder\n",
        "def one_hot_encoder(my_array):\n",
        "    integer_encoded = label_encoder.transform(my_array)\n",
        "    onehot_encoder = OneHotEncoder(sparse=False, dtype=int)\n",
        "    integer_encoded = integer_encoded.reshape(len(integer_encoded), 1)\n",
        "    onehot_encoded = onehot_encoder.fit_transform(integer_encoded)\n",
        "    onehot_encoded = np.delete(onehot_encoded, -1, 1)\n",
        "    return onehot_encoded\n",
        "  "
      ],
      "execution_count": null,
      "outputs": []
    },
    {
      "cell_type": "code",
      "metadata": {
        "colab": {
          "base_uri": "https://localhost:8080/"
        },
        "id": "-tohLSBK4rBm",
        "outputId": "dc8ad06e-3f87-448d-b85d-dbedc89a3193"
      },
      "source": [
        "test_sequence = 'AACGCGGTTNN'\n",
        "arr = string_to_array(test_sequence)\n",
        "print(arr)\n",
        "one_hot_encoder(arr)"
      ],
      "execution_count": null,
      "outputs": [
        {
          "output_type": "stream",
          "text": [
            "['a' 'a' 'c' 'g' 'c' 'g' 'g' 't' 't' 'z' 'z']\n"
          ],
          "name": "stdout"
        },
        {
          "output_type": "execute_result",
          "data": {
            "text/plain": [
              "array([[1, 0, 0, 0],\n",
              "       [1, 0, 0, 0],\n",
              "       [0, 1, 0, 0],\n",
              "       [0, 0, 1, 0],\n",
              "       [0, 1, 0, 0],\n",
              "       [0, 0, 1, 0],\n",
              "       [0, 0, 1, 0],\n",
              "       [0, 0, 0, 1],\n",
              "       [0, 0, 0, 1],\n",
              "       [0, 0, 0, 0],\n",
              "       [0, 0, 0, 0]])"
            ]
          },
          "metadata": {
            "tags": []
          },
          "execution_count": 5
        }
      ]
    },
    {
      "cell_type": "code",
      "metadata": {
        "id": "VIasKvgz4zCs"
      },
      "source": [
        "def getKmers(sequence, size):\n",
        "    return [sequence[x:x+size].lower() for x in range(len(sequence) - size + 1)]\n",
        "\n",
        "    "
      ],
      "execution_count": null,
      "outputs": []
    },
    {
      "cell_type": "code",
      "metadata": {
        "id": "RmZ3aajU6rbF"
      },
      "source": [
        "mySeq = 'CATGGCCATCCCCCCCCGAGCGGGGGGGGGG'\n",
        "words = getKmers(mySeq, size=6)\n",
        "sentence1 = ' '.join(words)\n",
        "# sentence\n",
        "mySeq2 = 'GATGGCCATCCCCGCCCGAGCGGGGGGGG'\n",
        "mySeq3 = 'CATGGCCATCCCCGCCCGAGCGGGCGGGG'\n",
        "sentence2 = ' '.join(getKmers(mySeq2, size=6))\n",
        "sentence3 = ' '.join(getKmers(mySeq3, size=6))"
      ],
      "execution_count": null,
      "outputs": []
    },
    {
      "cell_type": "code",
      "metadata": {
        "colab": {
          "base_uri": "https://localhost:8080/"
        },
        "id": "p-LZNepb6zSW",
        "outputId": "d259a942-0260-470f-a727-40d5b0376daa"
      },
      "source": [
        "# Creating the Bag of Words model\n",
        "from sklearn.feature_extraction.text import CountVectorizer\n",
        "cv = CountVectorizer()\n",
        "X = cv.fit_transform([sentence1, sentence2, sentence3]).toarray()\n",
        "X\n",
        "# cv\n"
      ],
      "execution_count": null,
      "outputs": [
        {
          "output_type": "execute_result",
          "data": {
            "text/plain": [
              "array([[1, 1, 1, 1, 1, 1, 3, 1, 1, 0, 1, 0, 1, 0, 1, 0, 0, 1, 1, 0, 1, 0,\n",
              "        0, 1, 1, 0, 0, 5, 1, 0, 1],\n",
              "       [1, 1, 1, 1, 0, 1, 0, 0, 0, 1, 1, 1, 1, 1, 1, 1, 0, 1, 1, 1, 1, 1,\n",
              "        0, 1, 1, 0, 0, 3, 0, 1, 1],\n",
              "       [1, 1, 1, 1, 1, 1, 0, 0, 0, 1, 1, 1, 1, 1, 1, 1, 1, 0, 1, 0, 1, 1,\n",
              "        1, 1, 1, 1, 1, 0, 0, 1, 1]])"
            ]
          },
          "metadata": {
            "tags": []
          },
          "execution_count": 9
        }
      ]
    },
    {
      "cell_type": "code",
      "metadata": {
        "id": "QJeXXH2chMlE"
      },
      "source": [
        "import numpy as np\n",
        "import pandas as pd\n",
        "import matplotlib.pyplot as plt\n",
        "import requests\n",
        "from tensorflow.keras.layers import Conv1D, Dense, MaxPooling1D, Flatten\n",
        "from tensorflow.keras.models import Sequential\n",
        "\n",
        "import tensorflow as tf\n",
        "\n",
        "from sklearn.preprocessing import LabelEncoder, OneHotEncoder\n",
        "\n",
        "X_train, X_test, y_train, y_train = train_test_split(X_cazy, \n",
        "                                                    y_data, random_state = 3, test_size = 0.25)\n",
        "X_train = X_cazy\n",
        "X_test = X_test\n",
        "y_train = y_train\n",
        "y_train = y_test\n",
        "\n",
        "features_s = tf.sparse.reorder(X_cazy)\n",
        "\n",
        "\n",
        "\n",
        "# # The LabelEncoder encodes a sequence of bases as a sequence of integers.\n",
        "# integer_encoder = LabelEncoder()  \n",
        "# # The OneHotEncoder converts an array of integers to a sparse matrix where \n",
        "# # each row corresponds to one possible value of each feature.\n",
        "# one_hot_encoder = OneHotEncoder(categories='auto')   \n",
        "# input_features = []\n",
        "\n",
        "# for sequence in sequences:\n",
        "#   integer_encoded = integer_encoder.fit_transform(list(sequence))\n",
        "#   integer_encoded = np.array(integer_encoded).reshape(-1, 1)\n",
        "#   one_hot_encoded = one_hot_encoder.fit_transform(integer_encoded)\n",
        "#   input_features.append(one_hot_encoded.toarray())\n",
        "\n",
        "# np.set_printoptions(threshold=40)\n",
        "# input_features = np.stack(input_features)\n",
        "# print(\"Example sequence\\n-----------------------\")\n",
        "# print('DNA Sequence #1:\\n',sequences[0][:10],'...',sequences[0][-10:])\n",
        "# print('One hot encoding of Sequence #1:\\n',input_features[0].T)\n",
        "\n",
        "\n",
        "model = Sequential()\n",
        "model.add(Conv1D(filters=32, kernel_size=12, \n",
        "                 input_shape=(X_train.shape[1], 4)))\n",
        "model.add(MaxPooling1D(pool_size=4))\n",
        "model.add(Flatten())\n",
        "model.add(Dense(16, activation='relu'))\n",
        "model.add(Dense(2, activation='softmax'))\n",
        "\n",
        "model.compile(loss='binary_crossentropy', optimizer='adam', \n",
        "              metrics=['binary_accuracy'])\n",
        "model.summary()\n",
        "history = model.fit(X_train, y_train, epochs=50, verbose=0)\n",
        "\n",
        "plt.figure()\n",
        "plt.plot(history.history['loss'])\n",
        "plt.plot(history.history['val_loss'])\n",
        "plt.title('model loss')\n",
        "plt.ylabel('loss')\n",
        "plt.xlabel('epoch')\n",
        "plt.legend(['train', 'validation'])\n",
        "plt.show()"
      ],
      "execution_count": null,
      "outputs": []
    },
    {
      "cell_type": "code",
      "metadata": {
        "id": "fmEJk-pUzS-S"
      },
      "source": [
        "names = [\"Nearest Neighbors\", \"Decision Tree\", \"Random Forest\", \"Neural Net\",\n",
        "         \"AdaBoost\", \"Naive Bayes\", \"SVM Linear\", \"SVM RBF\", \"SVM Sigmoid\"]\n",
        "\n",
        "classifiers = [\n",
        "    KNeighborsClassifier(n_neighbors = 3),\n",
        "    DecisionTreeClassifier(max_depth = 5),\n",
        "    RandomForestClassifier(max_depth = 5,  n_estimators =10, max_features =1),\n",
        "    MLPClassifier(alpha=1),\n",
        "    AdaBoostClassifier(),\n",
        "    GaussianNB(),\n",
        "    SVC(kernel = 'linear'),\n",
        "    SVC(kernel = 'rbf'),\n",
        "    SVC(kernel = 'sigmoid')\n",
        "]\n",
        "\n",
        "models = zip(names, classifiers)\n",
        "X_train, X_test, y_train, y_test = train_test_split(X_cazy, y_data, random_state = 3, test_size = 0.25)\n",
        "seed = 1\n",
        "scoring = 'accuracy'\n",
        "results = []\n",
        "names = []\n",
        "for name, model in models:\n",
        "    kfold = model_selection.KFold(n_splits = 10, random_state =seed)\n",
        "    cv_results = model_selection.cross_val_score(model, X_train, y_train, cv = kfold, scoring = scoring)\n",
        "    results.append(cv_results)\n",
        "    names.append(name)\n",
        "    msg = '{0}: {1} ({2})'.format(name, cv_results.mean(), cv_results.std())\n",
        "    print(msg)\n",
        "    print(\"Validating on test data set\")\n",
        "    model.fit(X_train, y_train)\n",
        "    predictions = model.predict(X_test)\n",
        "    print(\"Validation Accuracy\")\n",
        "    print(round(accuracy_score(y_test, predictions),2))\n",
        "    print(\"Confusion Matrix/n\")\n",
        "    print(classification_report(y_test, predictions))"
      ],
      "execution_count": null,
      "outputs": []
    }
  ]
}